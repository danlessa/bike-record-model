{
 "cells": [
  {
   "cell_type": "code",
   "execution_count": 1,
   "id": "9365848a-6783-4a7e-bcd7-eaec08127d2b",
   "metadata": {},
   "outputs": [
    {
     "name": "stdout",
     "output_type": "stream",
     "text": [
      "time: 402 µs (started: 2021-06-22 09:32:54 -03:00)\n"
     ]
    }
   ],
   "source": [
    "%load_ext autotime"
   ]
  },
  {
   "cell_type": "code",
   "execution_count": 3,
   "id": "861db206-5fa8-4d77-bc6e-ee1ed3117b96",
   "metadata": {},
   "outputs": [
    {
     "name": "stdout",
     "output_type": "stream",
     "text": [
      "time: 495 µs (started: 2021-06-22 09:33:27 -03:00)\n"
     ]
    }
   ],
   "source": [
    "import sys\n",
    "sys.path.append(\"..\")"
   ]
  },
  {
   "cell_type": "code",
   "execution_count": 13,
   "id": "ff2e2da8-171a-46fa-81b6-3963c4840474",
   "metadata": {},
   "outputs": [
    {
     "name": "stdout",
     "output_type": "stream",
     "text": [
      "time: 351 ms (started: 2021-06-22 09:37:24 -03:00)\n"
     ]
    }
   ],
   "source": [
    "import pandas as pd\n",
    "from scipy.optimize import curve_fit"
   ]
  },
  {
   "cell_type": "code",
   "execution_count": 124,
   "id": "fafe6714-63ed-4aeb-94e6-084feda4c4b8",
   "metadata": {},
   "outputs": [
    {
     "name": "stdout",
     "output_type": "stream",
     "text": [
      "time: 35.7 ms (started: 2021-06-22 09:50:12 -03:00)\n"
     ]
    }
   ],
   "source": [
    "\n",
    "features = {'Dist km': 'distance',\n",
    "            'Elv m': 'uphill'}\n",
    "\n",
    "target = {'Moving Time': 'duration'}\n",
    "\n",
    "df = (pd.read_csv('../data/activities.csv')\n",
    "        .rename(columns={**features, **target})\n",
    "        .assign(duration=lambda df: df.duration / (60 * 60))\n",
    "        .assign(distance=lambda df: df.distance / 1000)\n",
    "        .assign(group_size=lambda df: df['Group Size'])\n",
    "        .query('distance > 50 & uphill > 900 & distance < 350 & group_size < 2')\n",
    "     )\n",
    "\n",
    "X = df.loc[:, features.values()]\n",
    "y = df.loc[:, target.values()]\n"
   ]
  },
  {
   "cell_type": "code",
   "execution_count": 125,
   "id": "2a5bbd0e-d6a8-4665-a9a2-8ae4d57e3f2f",
   "metadata": {},
   "outputs": [
    {
     "name": "stdout",
     "output_type": "stream",
     "text": [
      "time: 484 µs (started: 2021-06-22 09:50:12 -03:00)\n"
     ]
    }
   ],
   "source": [
    "def f(x, a, v):\n",
    "    # T = D * (a * u) / v\n",
    "    return (x.distance + x.uphill / a) / v\n",
    "\n"
   ]
  },
  {
   "cell_type": "code",
   "execution_count": 126,
   "id": "7d84f338-c1e3-47d0-8849-2b15dc036396",
   "metadata": {},
   "outputs": [
    {
     "data": {
      "text/plain": [
       "(array([56.57622509, 27.45556539]),\n",
       " array([[1952.48746534, -173.11213401],\n",
       "        [-173.11213401,   15.83080938]]))"
      ]
     },
     "execution_count": 126,
     "metadata": {},
     "output_type": "execute_result"
    },
    {
     "name": "stdout",
     "output_type": "stream",
     "text": [
      "time: 19.7 ms (started: 2021-06-22 09:50:13 -03:00)\n"
     ]
    }
   ],
   "source": [
    "curve_fit(f, \n",
    "          X, \n",
    "          y.duration,\n",
    "          p0=[60, 25])"
   ]
  },
  {
   "cell_type": "code",
   "execution_count": 127,
   "id": "854b30c7-4dc1-4220-ae4b-f7ba1ddb2a25",
   "metadata": {},
   "outputs": [
    {
     "data": {
      "text/plain": [
       "30.714285714285715"
      ]
     },
     "execution_count": 127,
     "metadata": {},
     "output_type": "execute_result"
    },
    {
     "name": "stdout",
     "output_type": "stream",
     "text": [
      "time: 2.13 ms (started: 2021-06-22 09:50:13 -03:00)\n"
     ]
    }
   ],
   "source": [
    "430 / 14"
   ]
  },
  {
   "cell_type": "code",
   "execution_count": null,
   "id": "34f994d8-b8df-4269-b301-3f487a952bfd",
   "metadata": {},
   "outputs": [],
   "source": []
  }
 ],
 "metadata": {
  "kernelspec": {
   "display_name": "Python 3",
   "language": "python",
   "name": "python3"
  },
  "language_info": {
   "codemirror_mode": {
    "name": "ipython",
    "version": 3
   },
   "file_extension": ".py",
   "mimetype": "text/x-python",
   "name": "python",
   "nbconvert_exporter": "python",
   "pygments_lexer": "ipython3",
   "version": "3.9.5"
  }
 },
 "nbformat": 4,
 "nbformat_minor": 5
}
