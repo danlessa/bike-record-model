{
 "cells": [
  {
   "cell_type": "markdown",
   "source": [
    "# Pulling Garmin InReach data from a MapShare KML feed"
   ],
   "metadata": {}
  },
  {
   "cell_type": "code",
   "execution_count": 2,
   "source": [
    "%load_ext autotime"
   ],
   "outputs": [
    {
     "output_type": "stream",
     "name": "stdout",
     "text": [
      "time: 180 µs (started: 2021-08-24 23:37:14 -04:00)\n"
     ]
    }
   ],
   "metadata": {}
  },
  {
   "cell_type": "code",
   "execution_count": 3,
   "source": [
    "import requests as req"
   ],
   "outputs": [
    {
     "output_type": "stream",
     "name": "stdout",
     "text": [
      "time: 57.1 ms (started: 2021-08-24 23:37:14 -04:00)\n"
     ]
    }
   ],
   "metadata": {}
  },
  {
   "cell_type": "code",
   "execution_count": 4,
   "source": [
    "BASE_URL = 'https://share.garmin.com/Feed/Share'\n",
    "MAPSHARE_USER = 'danlessa'\n",
    "FEED_START = '2012-10-16T06:19z'\n",
    "FEED_END = '2022-10-18T23:59z'\n",
    "feed_url = f\"{BASE_URL}/{MAPSHARE_USER}?d1={FEED_START}&d2={FEED_END}\"\n",
    "\n",
    "r = req.get(feed_url)\n",
    "kml_string = r.text"
   ],
   "outputs": [
    {
     "output_type": "stream",
     "name": "stdout",
     "text": [
      "time: 1.53 s (started: 2021-08-24 23:37:15 -04:00)\n"
     ]
    }
   ],
   "metadata": {}
  },
  {
   "cell_type": "code",
   "execution_count": 5,
   "source": [
    "import xmltodict\n",
    "\n",
    "d = xmltodict.parse(kml_string)"
   ],
   "outputs": [
    {
     "output_type": "stream",
     "name": "stdout",
     "text": [
      "time: 8.57 ms (started: 2021-08-24 23:37:17 -04:00)\n"
     ]
    }
   ],
   "metadata": {}
  },
  {
   "cell_type": "code",
   "execution_count": 17,
   "source": [
    "from dataclasses import dataclass\n",
    "\n",
    "@dataclass\n",
    "class Placemark():\n",
    "    timestamp: str\n",
    "    latitude: float \n",
    "    longitude: float\n",
    "    # TODO: collect ExtendedData fields\n",
    "    # elevation: float\n",
    "    # speed: float\n",
    "    # direction: float\n",
    "    # valid_gps_fix: float\n",
    "    \n",
    "points = {}\n",
    "for p in d['kml']['Document']['Folder']['Placemark']:\n",
    "\n",
    "    if 'TimeStamp' in p:\n",
    "        timestamp = p['TimeStamp']['when']\n",
    "        coords = (p['Point']['coordinates'].split(',')[1], p['Point']['coordinates'].split(',')[0])\n",
    "        points[timestamp] = coords\n",
    "    else:\n",
    "        pass"
   ],
   "outputs": [
    {
     "output_type": "stream",
     "name": "stdout",
     "text": [
      "time: 768 µs (started: 2021-08-24 23:41:46 -04:00)\n"
     ]
    }
   ],
   "metadata": {}
  },
  {
   "cell_type": "code",
   "execution_count": 18,
   "source": [
    "points"
   ],
   "outputs": [
    {
     "output_type": "execute_result",
     "data": {
      "text/plain": [
       "{'2021-08-24T17:03:45Z': ('-9.925331', '-63.03365'),\n",
       " '2021-08-24T17:08:45Z': ('-9.925331', '-63.033628'),\n",
       " '2021-08-24T17:26:15Z': ('-9.925365', '-63.033628'),\n",
       " '2021-08-24T17:36:15Z': ('-9.925268', '-63.033628'),\n",
       " '2021-08-24T17:44:45Z': ('-9.925288', '-63.033563'),\n",
       " '2021-08-24T22:31:30Z': ('-9.925418', '-63.033543'),\n",
       " '2021-08-24T22:41:30Z': ('-9.912908', '-63.03425'),\n",
       " '2021-08-24T22:51:30Z': ('-9.91338', '-63.037018'),\n",
       " '2021-08-24T23:01:30Z': ('-9.913445', '-63.03704'),\n",
       " '2021-08-25T00:30:30Z': ('-9.91352', '-63.035151')}"
      ]
     },
     "metadata": {},
     "execution_count": 18
    },
    {
     "output_type": "stream",
     "name": "stdout",
     "text": [
      "time: 2.88 ms (started: 2021-08-24 23:41:47 -04:00)\n"
     ]
    }
   ],
   "metadata": {}
  },
  {
   "cell_type": "code",
   "execution_count": null,
   "source": [],
   "outputs": [],
   "metadata": {}
  }
 ],
 "metadata": {
  "kernelspec": {
   "name": "python3",
   "display_name": "Python 3.9.5 64-bit ('base': conda)"
  },
  "language_info": {
   "codemirror_mode": {
    "name": "ipython",
    "version": 3
   },
   "file_extension": ".py",
   "mimetype": "text/x-python",
   "name": "python",
   "nbconvert_exporter": "python",
   "pygments_lexer": "ipython3",
   "version": "3.9.5"
  },
  "interpreter": {
   "hash": "ff1451f766ff1f2aab9fee63bb48cc74e2e1277d7805d9df96af52a7af6088e7"
  }
 },
 "nbformat": 4,
 "nbformat_minor": 5
}