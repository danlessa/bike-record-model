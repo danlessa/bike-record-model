{
 "cells": [
  {
   "cell_type": "markdown",
   "id": "4c9eb598-9cea-4b29-aea6-6375ff422ec8",
   "metadata": {},
   "source": [
    "# Integrating the route .gpx with geospatial data"
   ]
  },
  {
   "cell_type": "code",
   "execution_count": 1,
   "id": "c217a79d-9cdc-4723-b0f4-f98c0e8dca4d",
   "metadata": {},
   "outputs": [
    {
     "name": "stdout",
     "output_type": "stream",
     "text": [
      "time: 261 µs (started: 2021-07-25 14:50:54 -03:00)\n"
     ]
    }
   ],
   "source": [
    "%load_ext autotime"
   ]
  },
  {
   "cell_type": "code",
   "execution_count": 2,
   "id": "e250f801-12b0-4845-859c-21173fd307aa",
   "metadata": {},
   "outputs": [
    {
     "name": "stdout",
     "output_type": "stream",
     "text": [
      "time: 338 µs (started: 2021-07-25 14:50:54 -03:00)\n"
     ]
    }
   ],
   "source": [
    "import sys\n",
    "sys.path.append('..')"
   ]
  },
  {
   "cell_type": "code",
   "execution_count": 3,
   "id": "5e821fa8-da81-44b6-8a27-594506a9c992",
   "metadata": {},
   "outputs": [
    {
     "name": "stdout",
     "output_type": "stream",
     "text": [
      "time: 1.17 s (started: 2021-07-25 14:50:54 -03:00)\n"
     ]
    }
   ],
   "source": [
    "import pandas as pd\n",
    "import numpy as np\n",
    "import xarray as xr\n",
    "import seaborn as sns\n",
    "import plotly.express as px\n",
    "import matplotlib.pyplot as plt\n",
    "\n",
    "from cycling_digital_twin.functions import load_route, append_deltas"
   ]
  },
  {
   "cell_type": "code",
   "execution_count": 4,
   "id": "ac0e83d1-d140-44a7-bbc6-8435ff1a15b8",
   "metadata": {},
   "outputs": [
    {
     "name": "stdout",
     "output_type": "stream",
     "text": [
      "time: 192 µs (started: 2021-07-25 14:50:55 -03:00)\n"
     ]
    }
   ],
   "source": [
    "gpx_path = '../data/record_route.gpx'\n",
    "DATA_PATH = '../data/historical_wind_data.nc'"
   ]
  },
  {
   "cell_type": "code",
   "execution_count": 5,
   "id": "ace23bdf-c27b-4311-a4ea-481cc89a7337",
   "metadata": {},
   "outputs": [
    {
     "data": {
      "application/vnd.jupyter.widget-view+json": {
       "model_id": "d285b58dd4bf483aaa3062dcc584e7b9",
       "version_major": 2,
       "version_minor": 0
      },
      "text/plain": [
       "Calculating deltas:   0%|          | 0/20839 [00:00<?, ?it/s]"
      ]
     },
     "metadata": {},
     "output_type": "display_data"
    },
    {
     "name": "stdout",
     "output_type": "stream",
     "text": [
      "time: 2.36 s (started: 2021-07-25 14:50:55 -03:00)\n"
     ]
    }
   ],
   "source": [
    "def estimated_time(distance,\n",
    "                   uphill,\n",
    "                   downhill,\n",
    "                   wind_speed=0,\n",
    "                   flat_speed=26.5,\n",
    "                   alpha=0.02,\n",
    "                   beta=-1/150,\n",
    "                   gamma=0.6):\n",
    "    time = (distance + alpha * uphill + beta * downhill)\n",
    "    time /= (flat_speed + gamma * wind_speed)\n",
    "    return time\n",
    "\n",
    "\n",
    "route_df = (load_route(gpx_path).pipe(append_deltas)\n",
    "                                .assign(distance_in_km=lambda df: df.delta.cumsum() / 1000)\n",
    "                                .assign(delta_ele=lambda df: df.ele.diff())\n",
    "                                .dropna()\n",
    "                                .assign(cumm_uphill=lambda df: df.delta_ele\n",
    "                                                                 .apply(lambda x: max(x, 0))\n",
    "                                                                 .cumsum())\n",
    "                                .assign(cumm_downhill=lambda df: df.delta_ele\n",
    "                                                                   .apply(lambda x: min(x, 0))\n",
    "                                                                   .abs()\n",
    "                                                                   .cumsum())\n",
    "                                .assign(est_time=lambda df: estimated_time(df.distance_in_km,\n",
    "                                                                           df.cumm_uphill,\n",
    "                                                                           df.cumm_downhill))\n",
    "           )"
   ]
  },
  {
   "cell_type": "code",
   "execution_count": 6,
   "id": "a702a878-224e-456e-a965-7a794f4f8013",
   "metadata": {},
   "outputs": [
    {
     "name": "stdout",
     "output_type": "stream",
     "text": [
      "time: 3.07 ms (started: 2021-07-25 14:50:58 -03:00)\n"
     ]
    }
   ],
   "source": [
    "route_df['est_day'] = pd.cut(route_df.est_time, 28, labels=False) + 1"
   ]
  },
  {
   "cell_type": "code",
   "execution_count": 7,
   "id": "3a2bc574-dc4f-4bcb-98e8-62a34c06d921",
   "metadata": {},
   "outputs": [
    {
     "data": {
      "text/html": [
       "<div>\n",
       "<style scoped>\n",
       "    .dataframe tbody tr th:only-of-type {\n",
       "        vertical-align: middle;\n",
       "    }\n",
       "\n",
       "    .dataframe tbody tr th {\n",
       "        vertical-align: top;\n",
       "    }\n",
       "\n",
       "    .dataframe thead th {\n",
       "        text-align: right;\n",
       "    }\n",
       "</style>\n",
       "<table border=\"1\" class=\"dataframe\">\n",
       "  <thead>\n",
       "    <tr style=\"text-align: right;\">\n",
       "      <th></th>\n",
       "      <th>lon</th>\n",
       "      <th>lat</th>\n",
       "      <th>ele</th>\n",
       "      <th>delta</th>\n",
       "      <th>delta_x</th>\n",
       "      <th>delta_y</th>\n",
       "      <th>u_x</th>\n",
       "      <th>u_y</th>\n",
       "      <th>distance_in_km</th>\n",
       "      <th>delta_ele</th>\n",
       "      <th>cumm_uphill</th>\n",
       "      <th>cumm_downhill</th>\n",
       "      <th>est_time</th>\n",
       "      <th>est_day</th>\n",
       "    </tr>\n",
       "  </thead>\n",
       "  <tbody>\n",
       "    <tr>\n",
       "      <th>1</th>\n",
       "      <td>-60.16919</td>\n",
       "      <td>4.59194</td>\n",
       "      <td>542.0</td>\n",
       "      <td>12.192198</td>\n",
       "      <td>12.192198</td>\n",
       "      <td>0.000000</td>\n",
       "      <td>1.000000</td>\n",
       "      <td>0.000000</td>\n",
       "      <td>0.012192</td>\n",
       "      <td>0.5</td>\n",
       "      <td>0.5</td>\n",
       "      <td>0.0</td>\n",
       "      <td>0.000837</td>\n",
       "      <td>1</td>\n",
       "    </tr>\n",
       "    <tr>\n",
       "      <th>2</th>\n",
       "      <td>-60.16912</td>\n",
       "      <td>4.59196</td>\n",
       "      <td>541.9</td>\n",
       "      <td>8.071104</td>\n",
       "      <td>7.758671</td>\n",
       "      <td>2.223902</td>\n",
       "      <td>0.961290</td>\n",
       "      <td>0.275539</td>\n",
       "      <td>0.020263</td>\n",
       "      <td>-0.1</td>\n",
       "      <td>0.5</td>\n",
       "      <td>0.1</td>\n",
       "      <td>0.001117</td>\n",
       "      <td>1</td>\n",
       "    </tr>\n",
       "    <tr>\n",
       "      <th>3</th>\n",
       "      <td>-60.16901</td>\n",
       "      <td>4.59200</td>\n",
       "      <td>541.5</td>\n",
       "      <td>12.978160</td>\n",
       "      <td>12.192198</td>\n",
       "      <td>4.447803</td>\n",
       "      <td>0.939440</td>\n",
       "      <td>0.342714</td>\n",
       "      <td>0.033241</td>\n",
       "      <td>-0.4</td>\n",
       "      <td>0.5</td>\n",
       "      <td>0.5</td>\n",
       "      <td>0.001506</td>\n",
       "      <td>1</td>\n",
       "    </tr>\n",
       "    <tr>\n",
       "      <th>4</th>\n",
       "      <td>-60.16895</td>\n",
       "      <td>4.59203</td>\n",
       "      <td>541.3</td>\n",
       "      <td>7.440044</td>\n",
       "      <td>6.650289</td>\n",
       "      <td>3.335853</td>\n",
       "      <td>0.893851</td>\n",
       "      <td>0.448365</td>\n",
       "      <td>0.040682</td>\n",
       "      <td>-0.2</td>\n",
       "      <td>0.5</td>\n",
       "      <td>0.7</td>\n",
       "      <td>0.001736</td>\n",
       "      <td>1</td>\n",
       "    </tr>\n",
       "    <tr>\n",
       "      <th>5</th>\n",
       "      <td>-60.16889</td>\n",
       "      <td>4.59207</td>\n",
       "      <td>541.0</td>\n",
       "      <td>8.000581</td>\n",
       "      <td>6.650289</td>\n",
       "      <td>4.447803</td>\n",
       "      <td>0.831226</td>\n",
       "      <td>0.555935</td>\n",
       "      <td>0.048682</td>\n",
       "      <td>-0.3</td>\n",
       "      <td>0.5</td>\n",
       "      <td>1.0</td>\n",
       "      <td>0.001963</td>\n",
       "      <td>1</td>\n",
       "    </tr>\n",
       "    <tr>\n",
       "      <th>...</th>\n",
       "      <td>...</td>\n",
       "      <td>...</td>\n",
       "      <td>...</td>\n",
       "      <td>...</td>\n",
       "      <td>...</td>\n",
       "      <td>...</td>\n",
       "      <td>...</td>\n",
       "      <td>...</td>\n",
       "      <td>...</td>\n",
       "      <td>...</td>\n",
       "      <td>...</td>\n",
       "      <td>...</td>\n",
       "      <td>...</td>\n",
       "      <td>...</td>\n",
       "    </tr>\n",
       "    <tr>\n",
       "      <th>20959</th>\n",
       "      <td>-53.40313</td>\n",
       "      <td>-33.61191</td>\n",
       "      <td>26.1</td>\n",
       "      <td>777.235450</td>\n",
       "      <td>-428.785304</td>\n",
       "      <td>-648.267338</td>\n",
       "      <td>-0.551680</td>\n",
       "      <td>-0.834068</td>\n",
       "      <td>5925.474766</td>\n",
       "      <td>2.7</td>\n",
       "      <td>40095.8</td>\n",
       "      <td>40611.2</td>\n",
       "      <td>243.647148</td>\n",
       "      <td>28</td>\n",
       "    </tr>\n",
       "    <tr>\n",
       "      <th>20960</th>\n",
       "      <td>-53.42687</td>\n",
       "      <td>-33.64829</td>\n",
       "      <td>18.1</td>\n",
       "      <td>4603.831866</td>\n",
       "      <td>-2198.417863</td>\n",
       "      <td>-4045.277146</td>\n",
       "      <td>-0.477519</td>\n",
       "      <td>-0.878676</td>\n",
       "      <td>5930.078598</td>\n",
       "      <td>-8.0</td>\n",
       "      <td>40095.8</td>\n",
       "      <td>40619.2</td>\n",
       "      <td>243.818865</td>\n",
       "      <td>28</td>\n",
       "    </tr>\n",
       "    <tr>\n",
       "      <th>20961</th>\n",
       "      <td>-53.42722</td>\n",
       "      <td>-33.64889</td>\n",
       "      <td>17.8</td>\n",
       "      <td>74.167165</td>\n",
       "      <td>-32.397698</td>\n",
       "      <td>-66.717050</td>\n",
       "      <td>-0.436820</td>\n",
       "      <td>-0.899550</td>\n",
       "      <td>5930.152765</td>\n",
       "      <td>-0.3</td>\n",
       "      <td>40095.8</td>\n",
       "      <td>40619.5</td>\n",
       "      <td>243.821589</td>\n",
       "      <td>28</td>\n",
       "    </tr>\n",
       "    <tr>\n",
       "      <th>20962</th>\n",
       "      <td>-53.43136</td>\n",
       "      <td>-33.65486</td>\n",
       "      <td>15.0</td>\n",
       "      <td>766.498935</td>\n",
       "      <td>-383.215815</td>\n",
       "      <td>-663.834650</td>\n",
       "      <td>-0.499956</td>\n",
       "      <td>-0.866061</td>\n",
       "      <td>5930.919264</td>\n",
       "      <td>-2.8</td>\n",
       "      <td>40095.8</td>\n",
       "      <td>40622.3</td>\n",
       "      <td>243.849809</td>\n",
       "      <td>28</td>\n",
       "    </tr>\n",
       "    <tr>\n",
       "      <th>20963</th>\n",
       "      <td>-53.43526</td>\n",
       "      <td>-33.66058</td>\n",
       "      <td>18.4</td>\n",
       "      <td>731.324957</td>\n",
       "      <td>-360.975366</td>\n",
       "      <td>-636.035879</td>\n",
       "      <td>-0.493591</td>\n",
       "      <td>-0.869704</td>\n",
       "      <td>5931.650589</td>\n",
       "      <td>3.4</td>\n",
       "      <td>40099.2</td>\n",
       "      <td>40622.3</td>\n",
       "      <td>243.879972</td>\n",
       "      <td>28</td>\n",
       "    </tr>\n",
       "  </tbody>\n",
       "</table>\n",
       "<p>20838 rows × 14 columns</p>\n",
       "</div>"
      ],
      "text/plain": [
       "            lon       lat    ele        delta      delta_x      delta_y  \\\n",
       "1     -60.16919   4.59194  542.0    12.192198    12.192198     0.000000   \n",
       "2     -60.16912   4.59196  541.9     8.071104     7.758671     2.223902   \n",
       "3     -60.16901   4.59200  541.5    12.978160    12.192198     4.447803   \n",
       "4     -60.16895   4.59203  541.3     7.440044     6.650289     3.335853   \n",
       "5     -60.16889   4.59207  541.0     8.000581     6.650289     4.447803   \n",
       "...         ...       ...    ...          ...          ...          ...   \n",
       "20959 -53.40313 -33.61191   26.1   777.235450  -428.785304  -648.267338   \n",
       "20960 -53.42687 -33.64829   18.1  4603.831866 -2198.417863 -4045.277146   \n",
       "20961 -53.42722 -33.64889   17.8    74.167165   -32.397698   -66.717050   \n",
       "20962 -53.43136 -33.65486   15.0   766.498935  -383.215815  -663.834650   \n",
       "20963 -53.43526 -33.66058   18.4   731.324957  -360.975366  -636.035879   \n",
       "\n",
       "            u_x       u_y  distance_in_km  delta_ele  cumm_uphill  \\\n",
       "1      1.000000  0.000000        0.012192        0.5          0.5   \n",
       "2      0.961290  0.275539        0.020263       -0.1          0.5   \n",
       "3      0.939440  0.342714        0.033241       -0.4          0.5   \n",
       "4      0.893851  0.448365        0.040682       -0.2          0.5   \n",
       "5      0.831226  0.555935        0.048682       -0.3          0.5   \n",
       "...         ...       ...             ...        ...          ...   \n",
       "20959 -0.551680 -0.834068     5925.474766        2.7      40095.8   \n",
       "20960 -0.477519 -0.878676     5930.078598       -8.0      40095.8   \n",
       "20961 -0.436820 -0.899550     5930.152765       -0.3      40095.8   \n",
       "20962 -0.499956 -0.866061     5930.919264       -2.8      40095.8   \n",
       "20963 -0.493591 -0.869704     5931.650589        3.4      40099.2   \n",
       "\n",
       "       cumm_downhill    est_time  est_day  \n",
       "1                0.0    0.000837        1  \n",
       "2                0.1    0.001117        1  \n",
       "3                0.5    0.001506        1  \n",
       "4                0.7    0.001736        1  \n",
       "5                1.0    0.001963        1  \n",
       "...              ...         ...      ...  \n",
       "20959        40611.2  243.647148       28  \n",
       "20960        40619.2  243.818865       28  \n",
       "20961        40619.5  243.821589       28  \n",
       "20962        40622.3  243.849809       28  \n",
       "20963        40622.3  243.879972       28  \n",
       "\n",
       "[20838 rows x 14 columns]"
      ]
     },
     "execution_count": 7,
     "metadata": {},
     "output_type": "execute_result"
    },
    {
     "name": "stdout",
     "output_type": "stream",
     "text": [
      "time: 15.7 ms (started: 2021-07-25 14:50:58 -03:00)\n"
     ]
    }
   ],
   "source": [
    "route_df"
   ]
  },
  {
   "cell_type": "code",
   "execution_count": 8,
   "id": "a505b273-da25-4e5a-b952-207c8b75aad5",
   "metadata": {},
   "outputs": [
    {
     "name": "stdout",
     "output_type": "stream",
     "text": [
      "time: 24.7 s (started: 2021-07-25 14:51:09 -03:00)\n"
     ]
    }
   ],
   "source": [
    "ds = xr.open_dataset(DATA_PATH)\n",
    "mask = (ds.time.dt.month == 9)\n",
    "ds = ds.isel(time=mask)\n",
    "mask_2 = ds.lon < -52\n",
    "ds = ds.isel(lon=mask_2)\n",
    "ds = ds.assign(speed_in_kph=3.6 * np.sqrt(ds.U2M * ds.U2M + ds.V2M * ds.V2M))\n",
    "ds = ds.assign(angle_in_degree=np.arctan2(ds.U2M, ds.V2M) * 360 / (2 * np.pi))"
   ]
  },
  {
   "cell_type": "code",
   "execution_count": 9,
   "id": "c71c15fe-1861-4cae-9773-aae5a1031f72",
   "metadata": {},
   "outputs": [
    {
     "data": {
      "text/html": [
       "<div>\n",
       "<style scoped>\n",
       "    .dataframe tbody tr th:only-of-type {\n",
       "        vertical-align: middle;\n",
       "    }\n",
       "\n",
       "    .dataframe tbody tr th {\n",
       "        vertical-align: top;\n",
       "    }\n",
       "\n",
       "    .dataframe thead th {\n",
       "        text-align: right;\n",
       "    }\n",
       "</style>\n",
       "<table border=\"1\" class=\"dataframe\">\n",
       "  <thead>\n",
       "    <tr style=\"text-align: right;\">\n",
       "      <th></th>\n",
       "      <th>lon</th>\n",
       "      <th>lat</th>\n",
       "      <th>ele</th>\n",
       "      <th>delta</th>\n",
       "      <th>delta_x</th>\n",
       "      <th>delta_y</th>\n",
       "      <th>u_x</th>\n",
       "      <th>u_y</th>\n",
       "      <th>distance_in_km</th>\n",
       "      <th>delta_ele</th>\n",
       "      <th>cumm_uphill</th>\n",
       "      <th>cumm_downhill</th>\n",
       "      <th>est_time</th>\n",
       "      <th>est_day</th>\n",
       "    </tr>\n",
       "  </thead>\n",
       "  <tbody>\n",
       "    <tr>\n",
       "      <th>1</th>\n",
       "      <td>-60.16919</td>\n",
       "      <td>4.59194</td>\n",
       "      <td>542.0</td>\n",
       "      <td>12.192198</td>\n",
       "      <td>12.192198</td>\n",
       "      <td>0.000000</td>\n",
       "      <td>1.000000</td>\n",
       "      <td>0.000000</td>\n",
       "      <td>0.012192</td>\n",
       "      <td>0.5</td>\n",
       "      <td>0.5</td>\n",
       "      <td>0.0</td>\n",
       "      <td>0.000837</td>\n",
       "      <td>1</td>\n",
       "    </tr>\n",
       "    <tr>\n",
       "      <th>1278</th>\n",
       "      <td>-60.96311</td>\n",
       "      <td>3.60945</td>\n",
       "      <td>105.9</td>\n",
       "      <td>531.166474</td>\n",
       "      <td>150.924576</td>\n",
       "      <td>-509.273483</td>\n",
       "      <td>0.284138</td>\n",
       "      <td>-0.958783</td>\n",
       "      <td>216.568861</td>\n",
       "      <td>-3.1</td>\n",
       "      <td>1318.8</td>\n",
       "      <td>1754.4</td>\n",
       "      <td>8.726372</td>\n",
       "      <td>2</td>\n",
       "    </tr>\n",
       "    <tr>\n",
       "      <th>2020</th>\n",
       "      <td>-60.65103</td>\n",
       "      <td>1.98048</td>\n",
       "      <td>100.0</td>\n",
       "      <td>4478.408525</td>\n",
       "      <td>2366.991243</td>\n",
       "      <td>-3801.759913</td>\n",
       "      <td>0.528534</td>\n",
       "      <td>-0.848909</td>\n",
       "      <td>437.623215</td>\n",
       "      <td>-3.2</td>\n",
       "      <td>2115.8</td>\n",
       "      <td>2557.3</td>\n",
       "      <td>17.467568</td>\n",
       "      <td>3</td>\n",
       "    </tr>\n",
       "    <tr>\n",
       "      <th>2712</th>\n",
       "      <td>-60.51864</td>\n",
       "      <td>0.27386</td>\n",
       "      <td>50.0</td>\n",
       "      <td>327.285816</td>\n",
       "      <td>41.141701</td>\n",
       "      <td>-324.689644</td>\n",
       "      <td>0.125706</td>\n",
       "      <td>-0.992068</td>\n",
       "      <td>656.553482</td>\n",
       "      <td>-4.8</td>\n",
       "      <td>2960.4</td>\n",
       "      <td>3451.9</td>\n",
       "      <td>26.141465</td>\n",
       "      <td>4</td>\n",
       "    </tr>\n",
       "    <tr>\n",
       "      <th>2989</th>\n",
       "      <td>-60.23948</td>\n",
       "      <td>-1.53262</td>\n",
       "      <td>54.7</td>\n",
       "      <td>2692.132996</td>\n",
       "      <td>1189.373739</td>\n",
       "      <td>-2415.157218</td>\n",
       "      <td>0.441796</td>\n",
       "      <td>-0.897117</td>\n",
       "      <td>876.303208</td>\n",
       "      <td>4.8</td>\n",
       "      <td>3791.3</td>\n",
       "      <td>4278.1</td>\n",
       "      <td>34.853153</td>\n",
       "      <td>5</td>\n",
       "    </tr>\n",
       "  </tbody>\n",
       "</table>\n",
       "</div>"
      ],
      "text/plain": [
       "           lon      lat    ele        delta      delta_x      delta_y  \\\n",
       "1    -60.16919  4.59194  542.0    12.192198    12.192198     0.000000   \n",
       "1278 -60.96311  3.60945  105.9   531.166474   150.924576  -509.273483   \n",
       "2020 -60.65103  1.98048  100.0  4478.408525  2366.991243 -3801.759913   \n",
       "2712 -60.51864  0.27386   50.0   327.285816    41.141701  -324.689644   \n",
       "2989 -60.23948 -1.53262   54.7  2692.132996  1189.373739 -2415.157218   \n",
       "\n",
       "           u_x       u_y  distance_in_km  delta_ele  cumm_uphill  \\\n",
       "1     1.000000  0.000000        0.012192        0.5          0.5   \n",
       "1278  0.284138 -0.958783      216.568861       -3.1       1318.8   \n",
       "2020  0.528534 -0.848909      437.623215       -3.2       2115.8   \n",
       "2712  0.125706 -0.992068      656.553482       -4.8       2960.4   \n",
       "2989  0.441796 -0.897117      876.303208        4.8       3791.3   \n",
       "\n",
       "      cumm_downhill   est_time  est_day  \n",
       "1               0.0   0.000837        1  \n",
       "1278         1754.4   8.726372        2  \n",
       "2020         2557.3  17.467568        3  \n",
       "2712         3451.9  26.141465        4  \n",
       "2989         4278.1  34.853153        5  "
      ]
     },
     "execution_count": 9,
     "metadata": {},
     "output_type": "execute_result"
    },
    {
     "name": "stdout",
     "output_type": "stream",
     "text": [
      "time: 12.3 ms (started: 2021-07-25 14:51:34 -03:00)\n"
     ]
    }
   ],
   "source": [
    "est_transitions = route_df[route_df.est_day.diff() != 0]\n",
    "est_transitions.head(5)"
   ]
  },
  {
   "cell_type": "code",
   "execution_count": 10,
   "id": "43bac9be-ee39-40a1-a7b1-89149187e406",
   "metadata": {},
   "outputs": [
    {
     "name": "stdout",
     "output_type": "stream",
     "text": [
      "time: 252 ms (started: 2021-07-25 14:51:34 -03:00)\n"
     ]
    }
   ],
   "source": [
    "a = (ds.sel(lat=est_transitions.lat,lon=est_transitions.lon, method='nearest')\n",
    "       .assign(hour=lambda ds: ds.time.dt.hour))\n"
   ]
  },
  {
   "cell_type": "code",
   "execution_count": 32,
   "id": "9aeae9c3-88bf-4d62-b44e-c3faf4ecc4dc",
   "metadata": {},
   "outputs": [
    {
     "name": "stdout",
     "output_type": "stream",
     "text": [
      "time: 922 ms (started: 2021-07-25 14:54:45 -03:00)\n"
     ]
    }
   ],
   "source": [
    "x = a.speed_in_kph.values.flatten()\n",
    "y = a.angle_in_degree.values.flatten()\n",
    "z = np.resize(a.hour.values, a.speed_in_kph.shape).flatten()\n",
    "\n",
    "metric_df = pd.DataFrame(dict(speed_in_kph=x,\n",
    "                  angle_in_degree=y,\n",
    "                  hour=z))\n"
   ]
  },
  {
   "cell_type": "code",
   "execution_count": 39,
   "id": "cff65204-b468-4fc0-9218-17d3646c3a2f",
   "metadata": {},
   "outputs": [
    {
     "data": {
      "text/plain": [
       "(array([10002296.,  2455937.,  1598838.,  1350573.,  1183948.,   908124.,\n",
       "          754378.,   664255.,   605382.,   559386.]),\n",
       " array([0.        , 0.99999964, 1.9999993 , 2.9999988 , 3.9999986 ,\n",
       "        4.999998  , 5.9999976 , 6.999997  , 7.999997  , 8.999996  ,\n",
       "        9.999996  ], dtype=float32),\n",
       " <BarContainer object of 10 artists>)"
      ]
     },
     "execution_count": 39,
     "metadata": {},
     "output_type": "execute_result"
    },
    {
     "data": {
      "image/png": "[encoded data removed]",
      "text/plain": [
       "<Figure size 432x288 with 1 Axes>"
      ]
     },
     "metadata": {
      "needs_background": "light"
     },
     "output_type": "display_data"
    },
    {
     "name": "stdout",
     "output_type": "stream",
     "text": [
      "time: 376 ms (started: 2021-07-25 14:57:30 -03:00)\n"
     ]
    }
   ],
   "source": [
    "plt.hist(x)"
   ]
  },
  {
   "cell_type": "code",
   "execution_count": 42,
   "id": "fba30f2f-c59e-4583-924c-3fa75e65efb9",
   "metadata": {},
   "outputs": [
    {
     "data": {
      "image/png": "[encoded data removed]",
      "text/plain": [
       "<Figure size 432x432 with 3 Axes>"
      ]
     },
     "metadata": {
      "needs_background": "light"
     },
     "output_type": "display_data"
    },
    {
     "name": "stdout",
     "output_type": "stream",
     "text": [
      "time: 6.68 s (started: 2021-07-25 14:58:48 -03:00)\n"
     ]
    }
   ],
   "source": [
    "g = sns.jointplot(x=x[x > 0.5],\n",
    "                  y=y[x > 0.5], \n",
    "                  kind=\"hex\",\n",
    "                  bins=30)"
   ]
  },
  {
   "cell_type": "code",
   "execution_count": 13,
   "id": "c0ad0def-3512-4be3-a73c-0aa27b669361",
   "metadata": {},
   "outputs": [
    {
     "name": "stdout",
     "output_type": "stream",
     "text": [
      "time: 149 µs (started: 2021-07-25 14:51:49 -03:00)\n"
     ]
    }
   ],
   "source": [
    "# fig = px.density_heatmap(x=a.speed_in_kph.values.flatten(), \n",
    "#                          y=a.angle_in_degree.values.flatten(),\n",
    "#                          marginal_x=\"histogram\", \n",
    "#                          marginal_y=\"histogram\",\n",
    "#                          nbinsx=40,\n",
    "#                          nbinsy=20)\n",
    "# fig.show()"
   ]
  },
  {
   "cell_type": "code",
   "execution_count": 14,
   "id": "926492d3-03d9-4f44-86ae-1a31f689d661",
   "metadata": {},
   "outputs": [
    {
     "data": {
      "text/plain": [
       "3.8872404"
      ]
     },
     "execution_count": 14,
     "metadata": {},
     "output_type": "execute_result"
    },
    {
     "name": "stdout",
     "output_type": "stream",
     "text": [
      "time: 34.6 ms (started: 2021-07-25 14:51:49 -03:00)\n"
     ]
    }
   ],
   "source": [
    "np.mean(x)"
   ]
  },
  {
   "cell_type": "code",
   "execution_count": 15,
   "id": "e6993c8a-1bdd-4d3d-a045-0b5ee8c8faa6",
   "metadata": {},
   "outputs": [
    {
     "data": {
      "text/plain": [
       "1.6241665"
      ]
     },
     "execution_count": 15,
     "metadata": {},
     "output_type": "execute_result"
    },
    {
     "name": "stdout",
     "output_type": "stream",
     "text": [
      "time: 210 ms (started: 2021-07-25 14:51:49 -03:00)\n"
     ]
    }
   ],
   "source": [
    "np.median(x)"
   ]
  },
  {
   "cell_type": "code",
   "execution_count": 47,
   "id": "352c4660-0935-4fd5-a09a-e8c34335a870",
   "metadata": {},
   "outputs": [
    {
     "data": {
      "text/plain": [
       "8.256704521179199"
      ]
     },
     "execution_count": 47,
     "metadata": {},
     "output_type": "execute_result"
    },
    {
     "name": "stdout",
     "output_type": "stream",
     "text": [
      "time: 269 ms (started: 2021-07-25 15:00:39 -03:00)\n"
     ]
    }
   ],
   "source": [
    "np.percentile(x, 95) - np.percentile(x, 5)"
   ]
  },
  {
   "cell_type": "code",
   "execution_count": 45,
   "id": "b4bc331d-28ad-4cc8-a2ad-8b90adcffe6e",
   "metadata": {},
   "outputs": [
    {
     "name": "stdout",
     "output_type": "stream",
     "text": [
      "-98.59892562281192\n",
      "77.56285998917983\n",
      "time: 398 ms (started: 2021-07-25 14:59:31 -03:00)\n"
     ]
    }
   ],
   "source": [
    "import scipy.stats as st\n",
    "print(st.circmean(y[x > 1], low=-180, high=180))\n",
    "print(st.circstd(y[x > 1], low=-180, high=180))"
   ]
  },
  {
   "cell_type": "code",
   "execution_count": 46,
   "id": "848f5799-abbc-4454-880f-7646efe7368a",
   "metadata": {},
   "outputs": [
    {
     "name": "stdout",
     "output_type": "stream",
     "text": [
      "Angle:  170.4787550072558 deg\n",
      "Projection:  170.4787550072558 deg\n",
      "time: 11.7 ms (started: 2021-07-25 14:59:34 -03:00)\n"
     ]
    }
   ],
   "source": [
    "angle_in_rad = np.arctan2(route_df.delta_x.sum(), route_df.delta_y.sum())\n",
    "total_distance = route_df.delta.sum() / 1000\n",
    "projected_distance = (route_df.delta_x.sum() ** 2 + route_df.delta_y.sum() ** 2) ** (1/2) / 1000\n",
    "\n",
    "print(f\"Angle:  {360 * angle_in_rad / (2 * np.pi)} deg\")\n",
    "\n",
    "print(f\"Projection:  {360 * np.arctan2(route_df.delta_x.sum(), route_df.delta_y.sum()) / (2 * np.pi)} deg\")"
   ]
  },
  {
   "cell_type": "code",
   "execution_count": 18,
   "id": "29a4bcc1-5745-4b52-a6ae-cc297de3433f",
   "metadata": {},
   "outputs": [
    {
     "name": "stdout",
     "output_type": "stream",
     "text": [
      "0.46947156278589086\n",
      "-0.8829475928589269\n",
      "time: 315 µs (started: 2021-07-25 14:51:49 -03:00)\n"
     ]
    }
   ],
   "source": [
    "wind_ang = (2 * np.pi) * -104 / 180\n",
    "print(np.sin(wind_ang))\n",
    "print(np.cos(wind_ang))"
   ]
  },
  {
   "cell_type": "code",
   "execution_count": 19,
   "id": "a289f310-36cb-4dae-8bb6-15a3d2caacd2",
   "metadata": {},
   "outputs": [
    {
     "name": "stdout",
     "output_type": "stream",
     "text": [
      "-0.34202014332566855\n",
      "0.9396926207859084\n",
      "time: 410 µs (started: 2021-07-25 14:51:49 -03:00)\n"
     ]
    }
   ],
   "source": [
    "ang = (2 * np.pi) * 170 / 180\n",
    "print(np.sin(ang))\n",
    "print(np.cos(ang))"
   ]
  },
  {
   "cell_type": "code",
   "execution_count": 20,
   "id": "85d5a866-5370-4391-a272-a0fd99c7c277",
   "metadata": {},
   "outputs": [
    {
     "name": "stdout",
     "output_type": "stream",
     "text": [
      "0.47022105800001757\n",
      "0.5409274495332583\n",
      "time: 319 µs (started: 2021-07-25 14:51:49 -03:00)\n"
     ]
    }
   ],
   "source": [
    "print(np.cos(ang) - np.sin(wind_ang))\n",
    "print(np.sin(ang) - np.cos(wind_ang))"
   ]
  },
  {
   "cell_type": "code",
   "execution_count": 21,
   "id": "70d157d7-0f40-476c-9fbe-4466fc209d49",
   "metadata": {},
   "outputs": [
    {
     "data": {
      "text/plain": [
       "270.0"
      ]
     },
     "execution_count": 21,
     "metadata": {},
     "output_type": "execute_result"
    },
    {
     "name": "stdout",
     "output_type": "stream",
     "text": [
      "time: 2.38 ms (started: 2021-07-25 14:51:49 -03:00)\n"
     ]
    }
   ],
   "source": [
    "180 * 3 * np.pi / (2 * np.pi)"
   ]
  },
  {
   "cell_type": "code",
   "execution_count": 22,
   "id": "b2961c8d-1dfa-406e-adf6-42b974d162c5",
   "metadata": {},
   "outputs": [
    {
     "data": {
      "text/plain": [
       "76"
      ]
     },
     "execution_count": 22,
     "metadata": {},
     "output_type": "execute_result"
    },
    {
     "name": "stdout",
     "output_type": "stream",
     "text": [
      "time: 825 µs (started: 2021-07-25 14:51:49 -03:00)\n"
     ]
    }
   ],
   "source": [
    "180-104"
   ]
  },
  {
   "cell_type": "code",
   "execution_count": null,
   "id": "4bba4196-c6df-4c6e-9b83-ffbc699f22f8",
   "metadata": {},
   "outputs": [],
   "source": []
  }
 ],
 "metadata": {
  "kernelspec": {
   "display_name": "Python 3",
   "language": "python",
   "name": "python3"
  },
  "language_info": {
   "codemirror_mode": {
    "name": "ipython",
    "version": 3
   },
   "file_extension": ".py",
   "mimetype": "text/x-python",
   "name": "python",
   "nbconvert_exporter": "python",
   "pygments_lexer": "ipython3",
   "version": "3.9.5"
  }
 },
 "nbformat": 4,
 "nbformat_minor": 5
}
