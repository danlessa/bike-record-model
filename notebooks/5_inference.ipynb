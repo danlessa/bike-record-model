{
 "cells": [
  {
   "cell_type": "markdown",
   "id": "63debb42-b9b9-475e-b9d8-d21b0c1a264d",
   "metadata": {},
   "source": [
    "# Modelling a planning formula for long distance cycling"
   ]
  },
  {
   "cell_type": "code",
   "execution_count": 1,
   "id": "9365848a-6783-4a7e-bcd7-eaec08127d2b",
   "metadata": {},
   "outputs": [
    {
     "name": "stdout",
     "output_type": "stream",
     "text": [
      "time: 325 µs (started: 2021-07-25 14:42:29 -03:00)\n"
     ]
    }
   ],
   "source": [
    "%load_ext autotime"
   ]
  },
  {
   "cell_type": "code",
   "execution_count": 2,
   "id": "9d601844-87a4-4326-8390-ffa575e139af",
   "metadata": {},
   "outputs": [
    {
     "name": "stdout",
     "output_type": "stream",
     "text": [
      "time: 13.7 s (started: 2021-07-25 14:42:29 -03:00)\n"
     ]
    }
   ],
   "source": [
    "import matplotlib.pyplot as plt\n",
    "from dataclasses import dataclass\n",
    "import pandas as pd\n",
    "\n",
    "import statsmodels.api as sm\n",
    "import pymc3 as pm\n",
    "import numpy as np\n",
    "import seaborn as sns"
   ]
  },
  {
   "cell_type": "code",
   "execution_count": 3,
   "id": "34f994d8-b8df-4269-b301-3f487a952bfd",
   "metadata": {},
   "outputs": [
    {
     "name": "stdout",
     "output_type": "stream",
     "text": [
      "time: 78.9 ms (started: 2021-07-25 14:42:43 -03:00)\n"
     ]
    }
   ],
   "source": [
    "@dataclass\n",
    "class Activity():\n",
    "    label: str\n",
    "    distance_in_km: float\n",
    "    uphill_in_m: float\n",
    "    downhill_in_m: float\n",
    "    wind_speed_in_kph: float\n",
    "    moving_time_in_h: float\n",
    "    avg_hr_in_bpm: float\n",
    "    consecutive_days: int\n",
    "    power: float\n",
    "        \n",
    "@dataclass\n",
    "@class MesoRegion():\n",
    "    label: str\n",
    "    distance_in_km: float\n",
    "    uphill_in_m: float\n",
    "    downhill_in_m: float\n",
    "    avg_wind_speed_in_kph: float\n",
    "    std_wind_speed_in_kph: float\n",
    "    \n",
    "        \n",
    "activities = [\n",
    "    Activity('barretos', 430, 4958, 4750, 13, 14 + 26/60, 150, 1, None),\n",
    "    Activity('cilada', 261, 3308, 3308, 0, 11 + 50/60, 151, 1, None),\n",
    "    Activity('cananeia', 256, 1567, 2300, 0, 9 + 42/60, 153, 1, 123),\n",
    "    Activity('pocos_2', 231, 2862, 2890, 0, 9 + 47/60, 145, 2, 116),\n",
    "    Activity('curitiba_1', 228, 2519, 3250, 0, 9 + 21/60, 153, 1, None),\n",
    "    Activity('curitiba_2', 212, 2870, 1950, 0, 9 + 27/60, 144, 2, None),\n",
    "    Activity('campos_jordao', 205, 3310, 3310, 0, 8 + 52/60, 147, 1, None),\n",
    "    Activity('pocos_3', 203, 2067, 2067, 4, 7 + 52/60, 138, 3, 114),\n",
    "    Activity('gravel', 200, 2044, 2044, 0, 9 + 12/60, 153, 1, 121),\n",
    "    Activity('fracassei', 195, 2428, 2600, 9, 8 + 8/60, 144, 1, 116),\n",
    "    Activity('paraty', 170.2, 1485, 2485, 3, 7+32/60, 144, 2, 115),\n",
    "    Activity('assou', 158, 1340, 1440, -0.5, 6+35/60, 151, 1, 133),\n",
    "    Activity('pocos_1', 104, 1656, 1500, 1.0, 4+36/60, 149, 1, 123),\n",
    "    Activity('...', 144, 1946, 1946, 0, 6+46/60, 152, 1, None),\n",
    "    Activity('ubatuba_cunha', 113.3, 2469, 1300, -3.5, 6+11/60, 152, 1, 142),\n",
    "    Activity('3morros', 89.2, 1766, 1766, 0, 4+53/60, 145, 1, 129),\n",
    "    Activity('taubate_volta', 88.6, 733, 633, 1.5, 2+48/60, 145, 1, 149)\n",
    "]\n",
    "\n",
    "meso_regions = [\n",
    "    MesoRegion('amazon_1', 1025, 3127, 3585, None, None),\n",
    "    MesoRegion('amazon_2', 1720, 3429, 3866, None, None)\n",
    "    MesoRegion('rondonia_1', 1720, 3429, 3866, None, None)\n",
    "    MesoRegion('rondonia_2', 1720, 3429, 3866, None, None)\n",
    "    MesoRegion('cerrado_1', 1720, 3429, 3866, None, None)\n",
    "    MesoRegion('cerrado_2', 1720, 3429, 3866, None, None)\n",
    "    MesoRegion('parana_1', 1720, 3429, 3866, None, None)\n",
    "    MesoRegion('parana_2', 1720, 3429, 3866, None, None)\n",
    "]\n",
    "\n",
    "df = pd.DataFrame(activities)\n",
    "\n",
    "df_with_power = df.dropna(subset=['power'])"
   ]
  },
  {
   "cell_type": "markdown",
   "id": "fb247e4b-c050-45cb-aa15-227d7b6781a0",
   "metadata": {},
   "source": [
    "## Bayesian Modelling"
   ]
  },
  {
   "cell_type": "code",
   "execution_count": 7,
   "id": "75a99631-7d50-48ae-99f1-2ad16da1e8cd",
   "metadata": {},
   "outputs": [
    {
     "name": "stdout",
     "output_type": "stream",
     "text": [
      "time: 550 µs (started: 2021-07-25 14:42:52 -03:00)\n"
     ]
    }
   ],
   "source": [
    "def summarize_trace(trace):\n",
    "    print(\"-- median --\")\n",
    "    print(trace.posterior.median())\n",
    "    print(\"-- std --\")\n",
    "    print(trace.posterior.std())\n",
    "    print(\"-- std per median -- \")\n",
    "    print(trace.posterior.std() / trace.posterior.median())\n",
    "    pm.plot_trace(trace)\n",
    "    plt.show()\n",
    "\n",
    "    bfmi = np.max(pm.stats.bfmi(trace))\n",
    "    max_gr = max(np.max(gr_stats) for gr_stats in pm.stats.rhat(trace).values()).values\n",
    "    (\n",
    "        pm.plot_energy(trace, legend=False, figsize=(6, 4)).set_title(\n",
    "            f\"BFMI = {bfmi :.2e}\\nGelman-Rubin = {max_gr :.2e}\"\n",
    "        )\n",
    "    )\n",
    "    plt.show()\n",
    "\n",
    "    pm.plot_posterior(trace)\n",
    "    plt.show()\n",
    "    \n",
    "    pd.plotting.scatter_matrix(trace.posterior.to_dataframe(), figsize=(20, 20))\n",
    "    plt.show()"
   ]
  },
  {
   "cell_type": "markdown",
   "id": "800398e0-db93-4616-b445-fe05de8c27ca",
   "metadata": {},
   "source": [
    "### Model 1\n",
    "\n",
    "$$\\hat{t} = \\frac{x + \\alpha u + \\beta d}{v_f + \\gamma w}$$"
   ]
  },
  {
   "cell_type": "code",
   "execution_count": 8,
   "id": "c57c6aba-04ed-42d2-b5de-ee113e661824",
   "metadata": {},
   "outputs": [
    {
     "name": "stderr",
     "output_type": "stream",
     "text": [
      "Auto-assigning NUTS sampler...\n",
      "Initializing NUTS using jitter+adapt_diag...\n",
      "Multiprocess sampling (4 chains in 4 jobs)\n",
      "NUTS: [sigma, gamma, v_f, beta, alpha]\n"
     ]
    },
    {
     "ename": "KeyboardInterrupt",
     "evalue": "",
     "output_type": "error",
     "traceback": [
      "\u001b[0;31m---------------------------------------------------------------------------\u001b[0m",
      "\u001b[0;31mKeyboardInterrupt\u001b[0m                         Traceback (most recent call last)",
      "\u001b[0;32m<ipython-input-8-5f4838942a58>\u001b[0m in \u001b[0;36m<module>\u001b[0;34m\u001b[0m\n\u001b[1;32m     28\u001b[0m \u001b[0;34m\u001b[0m\u001b[0m\n\u001b[1;32m     29\u001b[0m     \u001b[0mlikelihood\u001b[0m \u001b[0;34m=\u001b[0m \u001b[0mpm\u001b[0m\u001b[0;34m.\u001b[0m\u001b[0mNormal\u001b[0m\u001b[0;34m(\u001b[0m\u001b[0;34m't'\u001b[0m\u001b[0;34m,\u001b[0m \u001b[0mmu\u001b[0m\u001b[0;34m=\u001b[0m\u001b[0mmodel\u001b[0m\u001b[0;34m,\u001b[0m \u001b[0msigma\u001b[0m\u001b[0;34m=\u001b[0m\u001b[0msigma\u001b[0m\u001b[0;34m,\u001b[0m \u001b[0mobserved\u001b[0m\u001b[0;34m=\u001b[0m\u001b[0my\u001b[0m\u001b[0;34m)\u001b[0m\u001b[0;34m\u001b[0m\u001b[0;34m\u001b[0m\u001b[0m\n\u001b[0;32m---> 30\u001b[0;31m     trace = pm.sample(5_000, \n\u001b[0m\u001b[1;32m     31\u001b[0m                       \u001b[0mtune\u001b[0m\u001b[0;34m=\u001b[0m\u001b[0;36m1_000\u001b[0m\u001b[0;34m,\u001b[0m\u001b[0;34m\u001b[0m\u001b[0;34m\u001b[0m\u001b[0m\n\u001b[1;32m     32\u001b[0m                       \u001b[0mtarget_accept\u001b[0m\u001b[0;34m=\u001b[0m\u001b[0;36m0.95\u001b[0m\u001b[0;34m,\u001b[0m\u001b[0;34m\u001b[0m\u001b[0;34m\u001b[0m\u001b[0m\n",
      "\u001b[0;32m/opt/homebrew/Caskroom/miniconda/base/lib/python3.9/site-packages/pymc3/sampling.py\u001b[0m in \u001b[0;36msample\u001b[0;34m(draws, step, init, n_init, start, trace, chain_idx, chains, cores, tune, progressbar, model, random_seed, discard_tuned_samples, compute_convergence_checks, callback, jitter_max_retries, return_inferencedata, idata_kwargs, mp_ctx, pickle_backend, **kwargs)\u001b[0m\n\u001b[1;32m    557\u001b[0m         \u001b[0m_print_step_hierarchy\u001b[0m\u001b[0;34m(\u001b[0m\u001b[0mstep\u001b[0m\u001b[0;34m)\u001b[0m\u001b[0;34m\u001b[0m\u001b[0;34m\u001b[0m\u001b[0m\n\u001b[1;32m    558\u001b[0m         \u001b[0;32mtry\u001b[0m\u001b[0;34m:\u001b[0m\u001b[0;34m\u001b[0m\u001b[0;34m\u001b[0m\u001b[0m\n\u001b[0;32m--> 559\u001b[0;31m             \u001b[0mtrace\u001b[0m \u001b[0;34m=\u001b[0m \u001b[0m_mp_sample\u001b[0m\u001b[0;34m(\u001b[0m\u001b[0;34m**\u001b[0m\u001b[0msample_args\u001b[0m\u001b[0;34m,\u001b[0m \u001b[0;34m**\u001b[0m\u001b[0mparallel_args\u001b[0m\u001b[0;34m)\u001b[0m\u001b[0;34m\u001b[0m\u001b[0;34m\u001b[0m\u001b[0m\n\u001b[0m\u001b[1;32m    560\u001b[0m         \u001b[0;32mexcept\u001b[0m \u001b[0mpickle\u001b[0m\u001b[0;34m.\u001b[0m\u001b[0mPickleError\u001b[0m\u001b[0;34m:\u001b[0m\u001b[0;34m\u001b[0m\u001b[0;34m\u001b[0m\u001b[0m\n\u001b[1;32m    561\u001b[0m             \u001b[0m_log\u001b[0m\u001b[0;34m.\u001b[0m\u001b[0mwarning\u001b[0m\u001b[0;34m(\u001b[0m\u001b[0;34m\"Could not pickle model, sampling singlethreaded.\"\u001b[0m\u001b[0;34m)\u001b[0m\u001b[0;34m\u001b[0m\u001b[0;34m\u001b[0m\u001b[0m\n",
      "\u001b[0;32m/opt/homebrew/Caskroom/miniconda/base/lib/python3.9/site-packages/pymc3/sampling.py\u001b[0m in \u001b[0;36m_mp_sample\u001b[0;34m(draws, tune, step, chains, cores, chain, random_seed, start, progressbar, trace, model, callback, discard_tuned_samples, mp_ctx, pickle_backend, **kwargs)\u001b[0m\n\u001b[1;32m   1459\u001b[0m         \u001b[0mtraces\u001b[0m\u001b[0;34m.\u001b[0m\u001b[0mappend\u001b[0m\u001b[0;34m(\u001b[0m\u001b[0mstrace\u001b[0m\u001b[0;34m)\u001b[0m\u001b[0;34m\u001b[0m\u001b[0;34m\u001b[0m\u001b[0m\n\u001b[1;32m   1460\u001b[0m \u001b[0;34m\u001b[0m\u001b[0m\n\u001b[0;32m-> 1461\u001b[0;31m     sampler = ps.ParallelSampler(\n\u001b[0m\u001b[1;32m   1462\u001b[0m         \u001b[0mdraws\u001b[0m\u001b[0;34m,\u001b[0m\u001b[0;34m\u001b[0m\u001b[0;34m\u001b[0m\u001b[0m\n\u001b[1;32m   1463\u001b[0m         \u001b[0mtune\u001b[0m\u001b[0;34m,\u001b[0m\u001b[0;34m\u001b[0m\u001b[0;34m\u001b[0m\u001b[0m\n",
      "\u001b[0;32m/opt/homebrew/Caskroom/miniconda/base/lib/python3.9/site-packages/pymc3/parallel_sampling.py\u001b[0m in \u001b[0;36m__init__\u001b[0;34m(self, draws, tune, chains, cores, seeds, start_points, step_method, start_chain_num, progressbar, mp_ctx, pickle_backend)\u001b[0m\n\u001b[1;32m    429\u001b[0m                 \u001b[0mstep_method_pickled\u001b[0m \u001b[0;34m=\u001b[0m \u001b[0mdill\u001b[0m\u001b[0;34m.\u001b[0m\u001b[0mdumps\u001b[0m\u001b[0;34m(\u001b[0m\u001b[0mstep_method\u001b[0m\u001b[0;34m,\u001b[0m \u001b[0mprotocol\u001b[0m\u001b[0;34m=\u001b[0m\u001b[0;34m-\u001b[0m\u001b[0;36m1\u001b[0m\u001b[0;34m)\u001b[0m\u001b[0;34m\u001b[0m\u001b[0;34m\u001b[0m\u001b[0m\n\u001b[1;32m    430\u001b[0m \u001b[0;34m\u001b[0m\u001b[0m\n\u001b[0;32m--> 431\u001b[0;31m         self._samplers = [\n\u001b[0m\u001b[1;32m    432\u001b[0m             ProcessAdapter(\n\u001b[1;32m    433\u001b[0m                 \u001b[0mdraws\u001b[0m\u001b[0;34m,\u001b[0m\u001b[0;34m\u001b[0m\u001b[0;34m\u001b[0m\u001b[0m\n",
      "\u001b[0;32m/opt/homebrew/Caskroom/miniconda/base/lib/python3.9/site-packages/pymc3/parallel_sampling.py\u001b[0m in \u001b[0;36m<listcomp>\u001b[0;34m(.0)\u001b[0m\n\u001b[1;32m    430\u001b[0m \u001b[0;34m\u001b[0m\u001b[0m\n\u001b[1;32m    431\u001b[0m         self._samplers = [\n\u001b[0;32m--> 432\u001b[0;31m             ProcessAdapter(\n\u001b[0m\u001b[1;32m    433\u001b[0m                 \u001b[0mdraws\u001b[0m\u001b[0;34m,\u001b[0m\u001b[0;34m\u001b[0m\u001b[0;34m\u001b[0m\u001b[0m\n\u001b[1;32m    434\u001b[0m                 \u001b[0mtune\u001b[0m\u001b[0;34m,\u001b[0m\u001b[0;34m\u001b[0m\u001b[0;34m\u001b[0m\u001b[0m\n",
      "\u001b[0;32m/opt/homebrew/Caskroom/miniconda/base/lib/python3.9/site-packages/pymc3/parallel_sampling.py\u001b[0m in \u001b[0;36m__init__\u001b[0;34m(self, draws, tune, step_method, step_method_pickled, chain, seed, start, mp_ctx, pickle_backend)\u001b[0m\n\u001b[1;32m    290\u001b[0m             ),\n\u001b[1;32m    291\u001b[0m         )\n\u001b[0;32m--> 292\u001b[0;31m         \u001b[0mself\u001b[0m\u001b[0;34m.\u001b[0m\u001b[0m_process\u001b[0m\u001b[0;34m.\u001b[0m\u001b[0mstart\u001b[0m\u001b[0;34m(\u001b[0m\u001b[0;34m)\u001b[0m\u001b[0;34m\u001b[0m\u001b[0;34m\u001b[0m\u001b[0m\n\u001b[0m\u001b[1;32m    293\u001b[0m         \u001b[0;31m# Close the remote pipe, so that we get notified if the other\u001b[0m\u001b[0;34m\u001b[0m\u001b[0;34m\u001b[0m\u001b[0;34m\u001b[0m\u001b[0m\n\u001b[1;32m    294\u001b[0m         \u001b[0;31m# end is closed.\u001b[0m\u001b[0;34m\u001b[0m\u001b[0;34m\u001b[0m\u001b[0;34m\u001b[0m\u001b[0m\n",
      "\u001b[0;32m/opt/homebrew/Caskroom/miniconda/base/lib/python3.9/multiprocessing/process.py\u001b[0m in \u001b[0;36mstart\u001b[0;34m(self)\u001b[0m\n\u001b[1;32m    119\u001b[0m                \u001b[0;34m'daemonic processes are not allowed to have children'\u001b[0m\u001b[0;34m\u001b[0m\u001b[0;34m\u001b[0m\u001b[0m\n\u001b[1;32m    120\u001b[0m         \u001b[0m_cleanup\u001b[0m\u001b[0;34m(\u001b[0m\u001b[0;34m)\u001b[0m\u001b[0;34m\u001b[0m\u001b[0;34m\u001b[0m\u001b[0m\n\u001b[0;32m--> 121\u001b[0;31m         \u001b[0mself\u001b[0m\u001b[0;34m.\u001b[0m\u001b[0m_popen\u001b[0m \u001b[0;34m=\u001b[0m \u001b[0mself\u001b[0m\u001b[0;34m.\u001b[0m\u001b[0m_Popen\u001b[0m\u001b[0;34m(\u001b[0m\u001b[0mself\u001b[0m\u001b[0;34m)\u001b[0m\u001b[0;34m\u001b[0m\u001b[0;34m\u001b[0m\u001b[0m\n\u001b[0m\u001b[1;32m    122\u001b[0m         \u001b[0mself\u001b[0m\u001b[0;34m.\u001b[0m\u001b[0m_sentinel\u001b[0m \u001b[0;34m=\u001b[0m \u001b[0mself\u001b[0m\u001b[0;34m.\u001b[0m\u001b[0m_popen\u001b[0m\u001b[0;34m.\u001b[0m\u001b[0msentinel\u001b[0m\u001b[0;34m\u001b[0m\u001b[0;34m\u001b[0m\u001b[0m\n\u001b[1;32m    123\u001b[0m         \u001b[0;31m# Avoid a refcycle if the target function holds an indirect\u001b[0m\u001b[0;34m\u001b[0m\u001b[0;34m\u001b[0m\u001b[0;34m\u001b[0m\u001b[0m\n",
      "\u001b[0;32m/opt/homebrew/Caskroom/miniconda/base/lib/python3.9/multiprocessing/context.py\u001b[0m in \u001b[0;36m_Popen\u001b[0;34m(process_obj)\u001b[0m\n\u001b[1;32m    289\u001b[0m         \u001b[0;32mdef\u001b[0m \u001b[0m_Popen\u001b[0m\u001b[0;34m(\u001b[0m\u001b[0mprocess_obj\u001b[0m\u001b[0;34m)\u001b[0m\u001b[0;34m:\u001b[0m\u001b[0;34m\u001b[0m\u001b[0;34m\u001b[0m\u001b[0m\n\u001b[1;32m    290\u001b[0m             \u001b[0;32mfrom\u001b[0m \u001b[0;34m.\u001b[0m\u001b[0mpopen_forkserver\u001b[0m \u001b[0;32mimport\u001b[0m \u001b[0mPopen\u001b[0m\u001b[0;34m\u001b[0m\u001b[0;34m\u001b[0m\u001b[0m\n\u001b[0;32m--> 291\u001b[0;31m             \u001b[0;32mreturn\u001b[0m \u001b[0mPopen\u001b[0m\u001b[0;34m(\u001b[0m\u001b[0mprocess_obj\u001b[0m\u001b[0;34m)\u001b[0m\u001b[0;34m\u001b[0m\u001b[0;34m\u001b[0m\u001b[0m\n\u001b[0m\u001b[1;32m    292\u001b[0m \u001b[0;34m\u001b[0m\u001b[0m\n\u001b[1;32m    293\u001b[0m     \u001b[0;32mclass\u001b[0m \u001b[0mForkContext\u001b[0m\u001b[0;34m(\u001b[0m\u001b[0mBaseContext\u001b[0m\u001b[0;34m)\u001b[0m\u001b[0;34m:\u001b[0m\u001b[0;34m\u001b[0m\u001b[0;34m\u001b[0m\u001b[0m\n",
      "\u001b[0;32m/opt/homebrew/Caskroom/miniconda/base/lib/python3.9/multiprocessing/popen_forkserver.py\u001b[0m in \u001b[0;36m__init__\u001b[0;34m(self, process_obj)\u001b[0m\n\u001b[1;32m     33\u001b[0m     \u001b[0;32mdef\u001b[0m \u001b[0m__init__\u001b[0m\u001b[0;34m(\u001b[0m\u001b[0mself\u001b[0m\u001b[0;34m,\u001b[0m \u001b[0mprocess_obj\u001b[0m\u001b[0;34m)\u001b[0m\u001b[0;34m:\u001b[0m\u001b[0;34m\u001b[0m\u001b[0;34m\u001b[0m\u001b[0m\n\u001b[1;32m     34\u001b[0m         \u001b[0mself\u001b[0m\u001b[0;34m.\u001b[0m\u001b[0m_fds\u001b[0m \u001b[0;34m=\u001b[0m \u001b[0;34m[\u001b[0m\u001b[0;34m]\u001b[0m\u001b[0;34m\u001b[0m\u001b[0;34m\u001b[0m\u001b[0m\n\u001b[0;32m---> 35\u001b[0;31m         \u001b[0msuper\u001b[0m\u001b[0;34m(\u001b[0m\u001b[0;34m)\u001b[0m\u001b[0;34m.\u001b[0m\u001b[0m__init__\u001b[0m\u001b[0;34m(\u001b[0m\u001b[0mprocess_obj\u001b[0m\u001b[0;34m)\u001b[0m\u001b[0;34m\u001b[0m\u001b[0;34m\u001b[0m\u001b[0m\n\u001b[0m\u001b[1;32m     36\u001b[0m \u001b[0;34m\u001b[0m\u001b[0m\n\u001b[1;32m     37\u001b[0m     \u001b[0;32mdef\u001b[0m \u001b[0mduplicate_for_child\u001b[0m\u001b[0;34m(\u001b[0m\u001b[0mself\u001b[0m\u001b[0;34m,\u001b[0m \u001b[0mfd\u001b[0m\u001b[0;34m)\u001b[0m\u001b[0;34m:\u001b[0m\u001b[0;34m\u001b[0m\u001b[0;34m\u001b[0m\u001b[0m\n",
      "\u001b[0;32m/opt/homebrew/Caskroom/miniconda/base/lib/python3.9/multiprocessing/popen_fork.py\u001b[0m in \u001b[0;36m__init__\u001b[0;34m(self, process_obj)\u001b[0m\n\u001b[1;32m     17\u001b[0m         \u001b[0mself\u001b[0m\u001b[0;34m.\u001b[0m\u001b[0mreturncode\u001b[0m \u001b[0;34m=\u001b[0m \u001b[0;32mNone\u001b[0m\u001b[0;34m\u001b[0m\u001b[0;34m\u001b[0m\u001b[0m\n\u001b[1;32m     18\u001b[0m         \u001b[0mself\u001b[0m\u001b[0;34m.\u001b[0m\u001b[0mfinalizer\u001b[0m \u001b[0;34m=\u001b[0m \u001b[0;32mNone\u001b[0m\u001b[0;34m\u001b[0m\u001b[0;34m\u001b[0m\u001b[0m\n\u001b[0;32m---> 19\u001b[0;31m         \u001b[0mself\u001b[0m\u001b[0;34m.\u001b[0m\u001b[0m_launch\u001b[0m\u001b[0;34m(\u001b[0m\u001b[0mprocess_obj\u001b[0m\u001b[0;34m)\u001b[0m\u001b[0;34m\u001b[0m\u001b[0;34m\u001b[0m\u001b[0m\n\u001b[0m\u001b[1;32m     20\u001b[0m \u001b[0;34m\u001b[0m\u001b[0m\n\u001b[1;32m     21\u001b[0m     \u001b[0;32mdef\u001b[0m \u001b[0mduplicate_for_child\u001b[0m\u001b[0;34m(\u001b[0m\u001b[0mself\u001b[0m\u001b[0;34m,\u001b[0m \u001b[0mfd\u001b[0m\u001b[0;34m)\u001b[0m\u001b[0;34m:\u001b[0m\u001b[0;34m\u001b[0m\u001b[0;34m\u001b[0m\u001b[0m\n",
      "\u001b[0;32m/opt/homebrew/Caskroom/miniconda/base/lib/python3.9/multiprocessing/popen_forkserver.py\u001b[0m in \u001b[0;36m_launch\u001b[0;34m(self, process_obj)\u001b[0m\n\u001b[1;32m     56\u001b[0m                                        (_parent_w, self.sentinel))\n\u001b[1;32m     57\u001b[0m         \u001b[0;32mwith\u001b[0m \u001b[0mopen\u001b[0m\u001b[0;34m(\u001b[0m\u001b[0mw\u001b[0m\u001b[0;34m,\u001b[0m \u001b[0;34m'wb'\u001b[0m\u001b[0;34m,\u001b[0m \u001b[0mclosefd\u001b[0m\u001b[0;34m=\u001b[0m\u001b[0;32mTrue\u001b[0m\u001b[0;34m)\u001b[0m \u001b[0;32mas\u001b[0m \u001b[0mf\u001b[0m\u001b[0;34m:\u001b[0m\u001b[0;34m\u001b[0m\u001b[0;34m\u001b[0m\u001b[0m\n\u001b[0;32m---> 58\u001b[0;31m             \u001b[0mf\u001b[0m\u001b[0;34m.\u001b[0m\u001b[0mwrite\u001b[0m\u001b[0;34m(\u001b[0m\u001b[0mbuf\u001b[0m\u001b[0;34m.\u001b[0m\u001b[0mgetbuffer\u001b[0m\u001b[0;34m(\u001b[0m\u001b[0;34m)\u001b[0m\u001b[0;34m)\u001b[0m\u001b[0;34m\u001b[0m\u001b[0;34m\u001b[0m\u001b[0m\n\u001b[0m\u001b[1;32m     59\u001b[0m         \u001b[0mself\u001b[0m\u001b[0;34m.\u001b[0m\u001b[0mpid\u001b[0m \u001b[0;34m=\u001b[0m \u001b[0mforkserver\u001b[0m\u001b[0;34m.\u001b[0m\u001b[0mread_signed\u001b[0m\u001b[0;34m(\u001b[0m\u001b[0mself\u001b[0m\u001b[0;34m.\u001b[0m\u001b[0msentinel\u001b[0m\u001b[0;34m)\u001b[0m\u001b[0;34m\u001b[0m\u001b[0;34m\u001b[0m\u001b[0m\n\u001b[1;32m     60\u001b[0m \u001b[0;34m\u001b[0m\u001b[0m\n",
      "\u001b[0;31mKeyboardInterrupt\u001b[0m: "
     ]
    },
    {
     "name": "stdout",
     "output_type": "stream",
     "text": [
      "time: 23.6 s (started: 2021-07-25 14:42:52 -03:00)\n"
     ]
    }
   ],
   "source": [
    "with pm.Model() as model:\n",
    "    alpha = pm.TruncatedNormal('alpha', mu=1/50, \n",
    "                                        sigma=1/100,\n",
    "                                        lower=1/80,\n",
    "                                        upper=1/20)\n",
    "    beta = pm.Normal('beta', \n",
    "                     mu=-1/120, \n",
    "                     sigma=1/180)\n",
    "    \n",
    "    v_f = pm.TruncatedNormal('v_f', \n",
    "                             mu=25.5,\n",
    "                             sigma=2,\n",
    "                             lower=20,\n",
    "                             upper=32)\n",
    "    \n",
    "    gamma = pm.TruncatedNormal('gamma', \n",
    "                               mu=2/3, \n",
    "                               sigma=1/2, \n",
    "                               lower=0.0)\n",
    "    \n",
    "    model = (alpha * df.uphill_in_m + beta * df.downhill_in_m)\n",
    "    model += df.distance_in_km\n",
    "    model /= (v_f + gamma * df.wind_speed_in_kph)\n",
    "    \n",
    "    sigma = pm.HalfCauchy('sigma', beta=10, testval=1)\n",
    "    \n",
    "    y = df.moving_time_in_h\n",
    "        \n",
    "    likelihood = pm.Normal('t', mu=model, sigma=sigma, observed=y)\n",
    "    \n",
    "    \n",
    "    for meso_region in meso_regions:\n",
    "        pass\n",
    "    \n",
    "    trace = pm.sample(5_000, \n",
    "                      tune=1_000,\n",
    "                      target_accept=0.95,\n",
    "                      return_inferencedata=True)\n",
    "    \n",
    "summarize_trace(trace)"
   ]
  }
 ],
 "metadata": {
  "kernelspec": {
   "display_name": "Python 3",
   "language": "python",
   "name": "python3"
  },
  "language_info": {
   "codemirror_mode": {
    "name": "ipython",
    "version": 3
   },
   "file_extension": ".py",
   "mimetype": "text/x-python",
   "name": "python",
   "nbconvert_exporter": "python",
   "pygments_lexer": "ipython3",
   "version": "3.9.5"
  }
 },
 "nbformat": 4,
 "nbformat_minor": 5
}
