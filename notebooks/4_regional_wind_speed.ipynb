{
 "cells": [
  {
   "cell_type": "markdown",
   "id": "4c9eb598-9cea-4b29-aea6-6375ff422ec8",
   "metadata": {},
   "source": [
    "# Regional Wind Speed\n"
   ]
  },
  {
   "cell_type": "code",
   "execution_count": 1,
   "id": "c217a79d-9cdc-4723-b0f4-f98c0e8dca4d",
   "metadata": {},
   "outputs": [
    {
     "name": "stdout",
     "output_type": "stream",
     "text": [
      "time: 195 µs (started: 2021-07-25 15:02:42 -03:00)\n"
     ]
    }
   ],
   "source": [
    "%load_ext autotime"
   ]
  },
  {
   "cell_type": "code",
   "execution_count": 2,
   "id": "e250f801-12b0-4845-859c-21173fd307aa",
   "metadata": {},
   "outputs": [
    {
     "name": "stdout",
     "output_type": "stream",
     "text": [
      "time: 271 µs (started: 2021-07-25 15:02:42 -03:00)\n"
     ]
    }
   ],
   "source": [
    "import sys\n",
    "sys.path.append('..')"
   ]
  },
  {
   "cell_type": "code",
   "execution_count": 3,
   "id": "5e821fa8-da81-44b6-8a27-594506a9c992",
   "metadata": {},
   "outputs": [
    {
     "name": "stdout",
     "output_type": "stream",
     "text": [
      "time: 1.45 s (started: 2021-07-25 15:02:42 -03:00)\n"
     ]
    }
   ],
   "source": [
    "import pandas as pd\n",
    "import numpy as np\n",
    "import xarray as xr\n",
    "import seaborn as sns\n",
    "import plotly.express as px\n",
    "import matplotlib.pyplot as plt\n",
    "import scipy.stats as st\n",
    "\n",
    "\n",
    "from cycling_digital_twin.functions import load_route, append_deltas"
   ]
  },
  {
   "cell_type": "code",
   "execution_count": 4,
   "id": "ac0e83d1-d140-44a7-bbc6-8435ff1a15b8",
   "metadata": {},
   "outputs": [
    {
     "name": "stdout",
     "output_type": "stream",
     "text": [
      "time: 217 µs (started: 2021-07-25 15:02:44 -03:00)\n"
     ]
    }
   ],
   "source": [
    "gpx_path = '../data/record_route.gpx'\n",
    "DATA_PATH = '../data/historical_wind_data.nc'"
   ]
  },
  {
   "cell_type": "code",
   "execution_count": 5,
   "id": "ace23bdf-c27b-4311-a4ea-481cc89a7337",
   "metadata": {},
   "outputs": [
    {
     "data": {
      "application/vnd.jupyter.widget-view+json": {
       "model_id": "d9b7f9a0f7254b68b57d6259a4143789",
       "version_major": 2,
       "version_minor": 0
      },
      "text/plain": [
       "Calculating deltas:   0%|          | 0/20839 [00:00<?, ?it/s]"
      ]
     },
     "metadata": {},
     "output_type": "display_data"
    },
    {
     "name": "stdout",
     "output_type": "stream",
     "text": [
      "time: 2.39 s (started: 2021-07-25 15:02:44 -03:00)\n"
     ]
    }
   ],
   "source": [
    "def estimated_time(distance,\n",
    "                   uphill,\n",
    "                   downhill,\n",
    "                   wind_speed=0,\n",
    "                   flat_speed=26.5,\n",
    "                   alpha=0.02,\n",
    "                   beta=-1/150,\n",
    "                   gamma=0.6):\n",
    "    time = (distance + alpha * uphill + beta * downhill)\n",
    "    time /= (flat_speed + gamma * wind_speed)\n",
    "    return time\n",
    "\n",
    "\n",
    "route_df = (load_route(gpx_path).pipe(append_deltas)\n",
    "                                .assign(distance_in_km=lambda df: df.delta.cumsum() / 1000)\n",
    "                                .assign(delta_ele=lambda df: df.ele.diff())\n",
    "                                .dropna()\n",
    "                                .assign(cumm_uphill=lambda df: df.delta_ele\n",
    "                                                                 .apply(lambda x: max(x, 0))\n",
    "                                                                 .cumsum())\n",
    "                                .assign(cumm_downhill=lambda df: df.delta_ele\n",
    "                                                                   .apply(lambda x: min(x, 0))\n",
    "                                                                   .abs()\n",
    "                                                                   .cumsum())\n",
    "                                .assign(est_time=lambda df: estimated_time(df.distance_in_km,\n",
    "                                                                           df.cumm_uphill,\n",
    "                                                                           df.cumm_downhill))\n",
    "           )"
   ]
  },
  {
   "cell_type": "code",
   "execution_count": 6,
   "id": "a702a878-224e-456e-a965-7a794f4f8013",
   "metadata": {},
   "outputs": [
    {
     "name": "stdout",
     "output_type": "stream",
     "text": [
      "time: 1.92 ms (started: 2021-07-25 15:02:46 -03:00)\n"
     ]
    }
   ],
   "source": [
    "route_df['est_day'] = pd.cut(route_df.est_time, 28, labels=False) + 1"
   ]
  },
  {
   "cell_type": "code",
   "execution_count": 8,
   "id": "a505b273-da25-4e5a-b952-207c8b75aad5",
   "metadata": {},
   "outputs": [
    {
     "name": "stdout",
     "output_type": "stream",
     "text": [
      "time: 25.7 s (started: 2021-07-25 15:03:24 -03:00)\n"
     ]
    }
   ],
   "source": [
    "ds = xr.open_dataset(DATA_PATH)\n",
    "mask = (ds.time.dt.month == 9)\n",
    "ds = ds.isel(time=mask)\n",
    "mask_2 = ds.lon < -52\n",
    "ds = ds.isel(lon=mask_2)\n",
    "ds = ds.assign(speed_in_kph=3.6 * np.sqrt(ds.U2M * ds.U2M + ds.V2M * ds.V2M))\n",
    "ds = ds.assign(angle_in_degree=np.arctan2(ds.U2M, ds.V2M) * 360 / (2 * np.pi))\n",
    "\n"
   ]
  },
  {
   "cell_type": "code",
   "execution_count": 9,
   "id": "1ef40fe3-4c71-439e-a9c5-7702f937a4fa",
   "metadata": {},
   "outputs": [
    {
     "name": "stdout",
     "output_type": "stream",
     "text": [
      "time: 106 ms (started: 2021-07-25 15:03:50 -03:00)\n"
     ]
    }
   ],
   "source": [
    "import geocoder"
   ]
  },
  {
   "cell_type": "code",
   "execution_count": 12,
   "id": "d976012b-c630-4c39-b5bf-9f56471a0bc9",
   "metadata": {},
   "outputs": [
    {
     "name": "stdout",
     "output_type": "stream",
     "text": [
      "Stats for amazon_1\n",
      "Mean Wind Speed (km/h): 0.018268730491399765\n",
      "Wind Speed 90% IQR (km/h): 1.8345785915851593\n",
      "Mean Wind Angle (deg): -158.24173913472362\n",
      "Std Wind Angle (deg): 91.10543070429644\n",
      "-----\n",
      "Stats for amazon_2\n",
      "Mean Wind Speed (km/h): 6.786664009094238\n",
      "Wind Speed 90% IQR (km/h): 13.785523390769955\n",
      "Mean Wind Angle (deg): -106.27004768343663\n",
      "Std Wind Angle (deg): 85.77119866592167\n",
      "-----\n",
      "Stats for rondonia_1\n",
      "Mean Wind Speed (km/h): 0.9865562915802002\n",
      "Wind Speed 90% IQR (km/h): 2.28325600028038\n",
      "Mean Wind Angle (deg): -105.85862440859175\n",
      "Std Wind Angle (deg): 116.84194464675204\n",
      "-----\n",
      "Stats for rondonia_2\n",
      "Mean Wind Speed (km/h): 5.7807536125183105\n",
      "Wind Speed 90% IQR (km/h): 14.260575520992276\n",
      "Mean Wind Angle (deg): -90.03636142266298\n",
      "Std Wind Angle (deg): 89.95379545154806\n",
      "-----\n",
      "Stats for cerrado_1\n",
      "Mean Wind Speed (km/h): 8.09202766418457\n",
      "Wind Speed 90% IQR (km/h): 13.861359226703641\n",
      "Mean Wind Angle (deg): -103.58598141510755\n",
      "Std Wind Angle (deg): 89.63306409853612\n",
      "-----\n",
      "Stats for cerrado_2\n",
      "Mean Wind Speed (km/h): 8.313714981079102\n",
      "Wind Speed 90% IQR (km/h): 14.757417535781858\n",
      "Mean Wind Angle (deg): -103.81758629967352\n",
      "Std Wind Angle (deg): 80.46662299441782\n",
      "-----\n",
      "Stats for parana_1\n",
      "Mean Wind Speed (km/h): 0.5957109332084656\n",
      "Wind Speed 90% IQR (km/h): 1.2103356212377547\n",
      "Mean Wind Angle (deg): -128.3161941920399\n",
      "Std Wind Angle (deg): 95.06755517694766\n",
      "-----\n",
      "Stats for parana_2\n",
      "Mean Wind Speed (km/h): 5.88808012008667\n",
      "Wind Speed 90% IQR (km/h): 10.79435315132141\n",
      "Mean Wind Angle (deg): -75.94215678731494\n",
      "Std Wind Angle (deg): 82.69995768534048\n",
      "-----\n",
      "time: 14.3 s (started: 2021-07-25 15:08:36 -03:00)\n"
     ]
    }
   ],
   "source": [
    "MESO_REGIONS = {'amazon_1': ('Uiramutã / RR, Brazil', 'Manaus / AM, Brazil'),\n",
    "                'amazon_2': ('Manaus / AM, Brazil', 'Humaitá / AM, Brazil'),\n",
    "                'rondonia_1': ('Humaitá / AM, Brazil', 'Vilhena / RO, Brazil'),\n",
    "                'rondonia_2': ('Vilhena / RO, Brazil', 'Cuiabá / MT, Brazil'),\n",
    "                'cerrado_1': ('Cuiabá / MT, Brazil', 'São Gabriel do Oeste / MS, Brazil'),\n",
    "                'cerrado_2': ('São Gabriel do Oeste / MS, Brazil', 'Guairá / PR, Brazil'),\n",
    "                'parana_1': ('Guairá / PR, Brazil', 'Palmeira das Missões / RS, Brazil'),\n",
    "                'parana_2': ('Palmeira das Missões / RS, Brazil', 'Chuí / RS, Brazil')\n",
    "               }\n",
    "\n",
    "for label, tup in MESO_REGIONS.items():\n",
    "    p1 = geocoder.osm(tup[0]).latlng\n",
    "    p2 = geocoder.osm(tup[1]).latlng\n",
    "\n",
    "    p = [(p1[0] + p2[0]) / 2, (p1[1] + p2[1]) / 2, ]\n",
    "\n",
    "    a = (ds.sel(lat=p[0],lon=p[1], method='nearest')\n",
    "           .assign(hour=lambda ds: ds.time.dt.hour))\n",
    "    \n",
    "    x = a.speed_in_kph\n",
    "    y = a.angle_in_degree.values\n",
    "    \n",
    "    print(f\"Stats for {label}\")\n",
    "    print(f\"Mean Wind Speed (km/h): {np.median(x)}\")\n",
    "    print(f\"Wind Speed 90% IQR (km/h): {np.percentile(x, 95) - np.percentile(a.speed_in_kph, 5)}\")\n",
    "    print(f\"Mean Wind Angle (deg): {st.circmean(y[x > 1], low=-180, high=180)}\")\n",
    "    print(f\"Std Wind Angle (deg): {st.circstd(y[x > 1], low=-180, high=180)}\")\n",
    "    print(\"-----\")"
   ]
  },
  {
   "cell_type": "code",
   "execution_count": null,
   "id": "9bbb7c68-20f3-48cc-b40b-aafd4f2f0fae",
   "metadata": {},
   "outputs": [],
   "source": [
    " a"
   ]
  },
  {
   "cell_type": "code",
   "execution_count": null,
   "id": "d8cb4f30-4974-450d-aa05-972295b96b9c",
   "metadata": {},
   "outputs": [],
   "source": []
  }
 ],
 "metadata": {
  "kernelspec": {
   "display_name": "Python 3",
   "language": "python",
   "name": "python3"
  },
  "language_info": {
   "codemirror_mode": {
    "name": "ipython",
    "version": 3
   },
   "file_extension": ".py",
   "mimetype": "text/x-python",
   "name": "python",
   "nbconvert_exporter": "python",
   "pygments_lexer": "ipython3",
   "version": "3.9.5"
  }
 },
 "nbformat": 4,
 "nbformat_minor": 5
}
